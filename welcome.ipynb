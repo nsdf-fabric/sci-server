{
 "cells": [
  {
   "cell_type": "code",
   "execution_count": 1,
   "id": "6fad04c1-692c-4220-b68e-fda7190390d3",
   "metadata": {
    "tags": []
   },
   "outputs": [
    {
     "name": "stdout",
     "output_type": "stream",
     "text": [
      "/home/ubuntu/miniforge3/envs/my-env/bin/python\n"
     ]
    }
   ],
   "source": [
    "import os,sys\n",
    "print(sys.executable)"
   ]
  },
  {
   "cell_type": "code",
   "execution_count": null,
   "id": "e1e8e817",
   "metadata": {},
   "outputs": [],
   "source": [
    "!git clone https://github.com/nsdf-fabric/sci-server.git"
   ]
  },
  {
   "cell_type": "code",
   "execution_count": 1,
   "id": "c95a930c-a12b-4127-8258-ef1321c5159a",
   "metadata": {},
   "outputs": [
    {
     "name": "stdout",
     "output_type": "stream",
     "text": [
      "Untitled.ipynb\t     broken\t   panel.zip\t\t  test_matplotlib.ipynb\n",
      "airport_graph.ipynb  geoviews.zip  test_ipywidgets.ipynb  test_panel.ipynb\n"
     ]
    }
   ],
   "source": [
    "!pip install pip==22.1.2 geoviews==1.11.0 bokeh==3.3.1 ipywidgets==8.1.1 panel==1.3.4  matplotlib==3.8.2 param==2.0.1\n"
   ]
  }
 ],
 "metadata": {
  "kernelspec": {
   "display_name": "Python 3 (ipykernel)",
   "language": "python",
   "name": "python3"
  },
  "language_info": {
   "codemirror_mode": {
    "name": "ipython",
    "version": 3
   },
   "file_extension": ".py",
   "mimetype": "text/x-python",
   "name": "python",
   "nbconvert_exporter": "python",
   "pygments_lexer": "ipython3",
   "version": "3.10.13"
  }
 },
 "nbformat": 4,
 "nbformat_minor": 5
}
