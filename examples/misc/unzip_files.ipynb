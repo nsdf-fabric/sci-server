{
 "cells": [
  {
   "cell_type": "code",
   "execution_count": 19,
   "id": "3e0f9f60-a527-4fa4-92f5-3dd52d38ace3",
   "metadata": {
    "tags": []
   },
   "outputs": [],
   "source": [
    "import zipfile36 as zipfile\n",
    "\n",
    "with zipfile.ZipFile('folium-main.zip') as example_zip:\n",
    "    example_zip.extractall()"
   ]
  }
 ],
 "metadata": {
  "kernelspec": {
   "display_name": "Python 3 (ipykernel)",
   "language": "python",
   "name": "python3"
  },
  "language_info": {
   "codemirror_mode": {
    "name": "ipython",
    "version": 3
   },
   "file_extension": ".py",
   "mimetype": "text/x-python",
   "name": "python",
   "nbconvert_exporter": "python",
   "pygments_lexer": "ipython3",
   "version": "3.10.12"
  }
 },
 "nbformat": 4,
 "nbformat_minor": 5
}
